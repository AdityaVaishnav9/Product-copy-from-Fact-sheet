{
 "cells": [
  {
   "cell_type": "markdown",
   "id": "b97ddf3b-d921-4169-9d82-b0ee95e9eccd",
   "metadata": {},
   "source": [
    "# Iterative Prompt Development\n",
    "In this lesson, you'll iteratively analyze and refine your prompts to generate marketing copy from a product fact sheet.\n",
    "\n",
    "## Setup"
   ]
  },
  {
   "cell_type": "code",
   "execution_count": 1,
   "id": "2800e646",
   "metadata": {
    "height": 132,
    "tags": []
   },
   "outputs": [],
   "source": [
    "import openai\n",
    "import os\n",
    "\n",
    "from dotenv import load_dotenv, find_dotenv\n",
    "_ = load_dotenv(find_dotenv()) # read local .env file\n",
    "\n",
    "openai.api_key  = os.getenv('OPENAI_API_KEY')"
   ]
  },
  {
   "cell_type": "code",
   "execution_count": 2,
   "id": "9fb6f2de",
   "metadata": {
    "height": 149,
    "tags": []
   },
   "outputs": [],
   "source": [
    "def get_completion(prompt, model=\"gpt-3.5-turbo\"):\n",
    "    messages = [{\"role\": \"user\", \"content\": prompt}]\n",
    "    response = openai.ChatCompletion.create(\n",
    "        model=model,\n",
    "        messages=messages,\n",
    "        temperature=0, # this is the degree of randomness of the model's output\n",
    "    )\n",
    "    return response.choices[0].message[\"content\"]"
   ]
  },
  {
   "cell_type": "markdown",
   "id": "ffc2b32f-73da-4ef0-81f6-0c7bff70783d",
   "metadata": {},
   "source": [
    "**Note**: In June 2023, OpenAI updated gpt-3.5-turbo. The results you see in the notebook may be slightly different than those in the video. Some of the prompts have also been slightly modified to product the desired results."
   ]
  },
  {
   "cell_type": "markdown",
   "id": "71d1a1df-03c3-4f38-af6d-3962362f3dcd",
   "metadata": {},
   "source": [
    "## Generate a marketing product description from a product fact sheet"
   ]
  },
  {
   "cell_type": "code",
   "execution_count": 11,
   "id": "5be90e47",
   "metadata": {
    "height": 642,
    "tags": []
   },
   "outputs": [],
   "source": [
    "fact_sheet_chair = \"\"\"\n",
    "OVERVIEW\n",
    "The Lamborghini Aventador is a flagship supercar from the renowned Italian automaker, Lamborghini. Known for its striking design, powerful performance, and advanced technology, the Aventador stands as a pinnacle of automotive engineering and luxury.\n",
    "\n",
    "Key Specifications\n",
    "Engine\n",
    "Type: 6.5L V12 Naturally Aspirated\n",
    "Power: 730 hp (Aventador S) / 759 hp (Aventador SVJ)\n",
    "Torque: 509 lb-ft (Aventador S) / 531 lb-ft (Aventador SVJ)\n",
    "Transmission: 7-speed ISR (Independent Shifting Rod) Automated Manual\n",
    "Performance\n",
    "Top Speed: 217 mph (350 km/h)\n",
    "0-60 mph: 2.9 seconds (Aventador S) / 2.8 seconds (Aventador SVJ)\n",
    "Drive Type: All-wheel drive\n",
    "\n",
    "DIMENSIONS\n",
    "Length: 190.4 inches (4,848 mm)\n",
    "Width: 79.9 inches (2,030 mm) without mirrors\n",
    "Height: 44.7 inches (1,136 mm)\n",
    "Wheelbase: 106.3 inches (2,703 mm)\n",
    "Curb Weight: 3,472 lbs (1,575 kg)\n",
    "\n",
    "\n",
    "Special Editions\n",
    "Aventador SVJ (Superveloce Jota)\n",
    "Enhanced performance with increased power and reduced weight\n",
    "Extensive use of carbon fiber for aerodynamic enhancements\n",
    "Limited production run\n",
    "Aventador S\n",
    "Enhanced aerodynamics and suspension system\n",
    "Improved driving dynamics with rear-wheel steering\n",
    "Upgraded infotainment and interior features\n",
    "Pricing\n",
    "Base Price:\n",
    "Aventador S: Starting at $421,321\n",
    "Aventador SVJ: Starting at $517,770\n",
    "\"\"\""
   ]
  },
  {
   "cell_type": "code",
   "execution_count": 12,
   "id": "4f656d0c",
   "metadata": {
    "height": 251,
    "tags": []
   },
   "outputs": [
    {
     "name": "stdout",
     "output_type": "stream",
     "text": [
      "Introducing the Lamborghini Aventador, the epitome of luxury and performance in the world of supercars. Crafted by the prestigious Italian automaker, Lamborghini, the Aventador is a masterpiece of automotive engineering.\n",
      "\n",
      "Powered by a 6.5L V12 Naturally Aspirated engine, the Aventador delivers an impressive 730 hp in the Aventador S model and a staggering 759 hp in the Aventador SVJ. With a torque of 509 lb-ft in the Aventador S and 531 lb-ft in the Aventador SVJ, this supercar is designed to provide an exhilarating driving experience.\n",
      "\n",
      "Equipped with a 7-speed ISR (Independent Shifting Rod) Automated Manual transmission, the Aventador offers seamless gear shifts for optimal performance. With a top speed of 217 mph and a 0-60 mph acceleration time of just 2.8 seconds in the Aventador SVJ, this supercar is sure to leave a lasting impression.\n",
      "\n",
      "The Aventador's dimensions showcase its sleek and aerodynamic design, with a length of 190.4 inches, a width of 79.9 inches (without mirrors), and a height of 44.7 inches. The all-wheel-drive system ensures superior handling and control on the road.\n",
      "\n",
      "For those seeking the ultimate driving experience, the Aventador is also available in special editions such as the Aventador SVJ and Aventador S. The SVJ model offers enhanced performance, reduced weight, and aerodynamic enhancements using carbon fiber. The Aventador S features improved aerodynamics, rear-wheel steering, and upgraded infotainment and interior features.\n",
      "\n",
      "Experience the pinnacle of automotive luxury with the Lamborghini Aventador, starting at $421,321 for the Aventador S and $517,770 for the Aventador SVJ. Elevate your driving experience with the Aventador and make a statement wherever you go.\n"
     ]
    }
   ],
   "source": [
    "prompt = f\"\"\"\n",
    "Your task is to help a marketing team create a \n",
    "description for a retail website of a product based \n",
    "on a technical fact sheet.\n",
    "\n",
    "Write a product description based on the information \n",
    "provided in the technical specifications delimited by \n",
    "triple backticks.\n",
    "\n",
    "Technical specifications: ```{fact_sheet_chair}```\n",
    "\"\"\"\n",
    "response = get_completion(prompt)\n",
    "print(response)\n"
   ]
  },
  {
   "cell_type": "markdown",
   "id": "e1361d6f-6022-4b7a-8107-b2e2ff5efd32",
   "metadata": {},
   "source": [
    "## Issue 1: The text is too long \n",
    "- Limit the number of words/sentences/characters."
   ]
  },
  {
   "cell_type": "code",
   "execution_count": 13,
   "id": "f6129532",
   "metadata": {
    "height": 285,
    "tags": []
   },
   "outputs": [
    {
     "name": "stdout",
     "output_type": "stream",
     "text": [
      "Experience the pinnacle of automotive luxury with the Lamborghini Aventador. Featuring a powerful 6.5L V12 engine, striking design, and top speed of 217 mph, this flagship supercar offers unparalleled performance. Choose from the Aventador S or SVJ models for enhanced features and limited edition exclusivity. Starting at $421,321.\n"
     ]
    }
   ],
   "source": [
    "prompt = f\"\"\"\n",
    "Your task is to help a marketing team create a \n",
    "description for a retail website of a product based \n",
    "on a technical fact sheet.\n",
    "\n",
    "Write a product description based on the information \n",
    "provided in the technical specifications delimited by \n",
    "triple backticks.\n",
    "\n",
    "Use at most 50 words.\n",
    "\n",
    "Technical specifications: ```{fact_sheet_chair}```\n",
    "\"\"\"\n",
    "response = get_completion(prompt)\n",
    "print(response)\n"
   ]
  },
  {
   "cell_type": "code",
   "execution_count": 14,
   "id": "17f658d0",
   "metadata": {
    "height": 30,
    "tags": []
   },
   "outputs": [
    {
     "data": {
      "text/plain": [
       "48"
      ]
     },
     "execution_count": 14,
     "metadata": {},
     "output_type": "execute_result"
    }
   ],
   "source": [
    "len(response.split())"
   ]
  },
  {
   "cell_type": "markdown",
   "id": "a6de9c92-857c-4d1c-8fd1-192cf47c4763",
   "metadata": {},
   "source": [
    "## Issue 2. Text focuses on the wrong details\n",
    "- Ask it to focus on the aspects that are relevant to the intended audience."
   ]
  },
  {
   "cell_type": "code",
   "execution_count": 15,
   "id": "954a8a06",
   "metadata": {
    "height": 336,
    "tags": []
   },
   "outputs": [
    {
     "name": "stdout",
     "output_type": "stream",
     "text": [
      "Experience the pinnacle of automotive engineering with the Lamborghini Aventador. Featuring a 6.5L V12 engine, delivering 730 hp in the Aventador S and 759 hp in the Aventador SVJ, this supercar offers unparalleled power and performance. With a top speed of 217 mph and 0-60 mph in just 2.8 seconds, the Aventador is a true masterpiece for automobile enthusiasts.\n"
     ]
    }
   ],
   "source": [
    "prompt = f\"\"\"\n",
    "Your task is to help a marketing team create a \n",
    "description for a retail website of a product based \n",
    "on a technical fact sheet.\n",
    "\n",
    "Write a product description based on the information \n",
    "provided in the technical specifications delimited by \n",
    "triple backticks.\n",
    "\n",
    "The description is intended for automobile lovers, \n",
    "so should be technical in nature and focus on the \n",
    "engine of the product.\n",
    "\n",
    "Use at most 50 words.\n",
    "\n",
    "Technical specifications: ```{fact_sheet_chair}```\n",
    "\"\"\"\n",
    "response = get_completion(prompt)\n",
    "print(response)"
   ]
  },
  {
   "cell_type": "code",
   "execution_count": 16,
   "id": "e9455d58",
   "metadata": {
    "height": 387,
    "tags": []
   },
   "outputs": [
    {
     "name": "stdout",
     "output_type": "stream",
     "text": [
      "Experience the raw power and precision of the Lamborghini Aventador, featuring a 6.5L V12 engine delivering up to 759 hp. With a top speed of 217 mph and 0-60 mph in just 2.8 seconds, this supercar is a true engineering marvel. Product ID: 1,575 kg.\n"
     ]
    }
   ],
   "source": [
    "prompt = f\"\"\"\n",
    "Your task is to help a marketing team create a \n",
    "description for a retail website of a product based \n",
    "on a technical fact sheet.\n",
    "\n",
    "Write a product description based on the information \n",
    "provided in the technical specifications delimited by \n",
    "triple backticks.\n",
    "\n",
    "The description is intended for automobile lovers, \n",
    "so should be technical in nature and focus on the \n",
    "engine of the product.\n",
    "\n",
    "At the end of the description, include every 7-character \n",
    "Product ID in the technical specification.\n",
    "\n",
    "Use at most 50 words.\n",
    "\n",
    "Technical specifications: ```{fact_sheet_chair}```\n",
    "\"\"\"\n",
    "response = get_completion(prompt)\n",
    "print(response)"
   ]
  },
  {
   "cell_type": "markdown",
   "id": "5be496d5-54c9-443b-8116-0b3d3d9dc560",
   "metadata": {},
   "source": [
    "## Issue 3. Description needs a table of dimensions\n",
    "- Ask it to extract information and organize it in a table."
   ]
  },
  {
   "cell_type": "code",
   "execution_count": 17,
   "id": "0384f1e4",
   "metadata": {
    "height": 540,
    "tags": []
   },
   "outputs": [
    {
     "name": "stdout",
     "output_type": "stream",
     "text": [
      "```The Lamborghini Aventador is a masterpiece of automotive engineering, crafted with precision and luxury in mind. This flagship supercar boasts a powerful 6.5L V12 Naturally Aspirated engine that delivers an impressive 730 hp in the Aventador S and 759 hp in the Aventador SVJ. The advanced 7-speed ISR Automated Manual transmission ensures seamless gear shifts, while the all-wheel drive system provides exceptional handling.\n",
      "\n",
      "Constructed with the finest materials, the Aventador features extensive use of carbon fiber for aerodynamic enhancements, reducing weight and increasing performance. The sleek design of the Aventador is complemented by its impressive dimensions, including a length of 190.4 inches, a width of 79.9 inches (without mirrors), and a height of 44.7 inches. The wheelbase measures 106.3 inches, providing stability and agility on the road.\n",
      "\n",
      "Experience the pinnacle of automotive luxury with the Lamborghini Aventador, where power, performance, and style converge to create a driving experience like no other.\n",
      "\n",
      "Product IDs: 4,848 mm, 2,030 mm, 1,136 mm, 2,703 mm, 1,575 kg\n",
      "```\n",
      "\n",
      "<div>\n",
      "  <h2>Product Dimensions</h2>\n",
      "  <table>\n",
      "    <tr>\n",
      "      <td>Length</td>\n",
      "      <td>190.4 inches</td>\n",
      "    </tr>\n",
      "    <tr>\n",
      "      <td>Width</td>\n",
      "      <td>79.9 inches</td>\n",
      "    </tr>\n",
      "    <tr>\n",
      "      <td>Height</td>\n",
      "      <td>44.7 inches</td>\n",
      "    </tr>\n",
      "    <tr>\n",
      "      <td>Wheelbase</td>\n",
      "      <td>106.3 inches</td>\n",
      "    </tr>\n",
      "    <tr>\n",
      "      <td>Curb Weight</td>\n",
      "      <td>3,472 lbs</td>\n",
      "    </tr>\n",
      "  </table>\n",
      "</div>\n"
     ]
    }
   ],
   "source": [
    "prompt = f\"\"\"\n",
    "Your task is to help a marketing team create a \n",
    "description for a retail website of a product based \n",
    "on a technical fact sheet.\n",
    "\n",
    "Write a product description based on the information \n",
    "provided in the technical specifications delimited by \n",
    "triple backticks.\n",
    "\n",
    "The description is intended for furniture retailers, \n",
    "so should be technical in nature and focus on the \n",
    "materials the product is constructed from.\n",
    "\n",
    "At the end of the description, include every 7-character \n",
    "Product ID in the technical specification.\n",
    "\n",
    "After the description, include a table that gives the \n",
    "product's dimensions. The table should have two columns.\n",
    "In the first column include the name of the dimension. \n",
    "In the second column include the measurements in inches only.\n",
    "\n",
    "Give the table the title 'Product Dimensions'.\n",
    "\n",
    "Format everything as HTML that can be used in a website. \n",
    "Place the description in a <div> element.\n",
    "\n",
    "Technical specifications: ```{fact_sheet_chair}```\n",
    "\"\"\"\n",
    "\n",
    "response = get_completion(prompt)\n",
    "print(response)"
   ]
  },
  {
   "cell_type": "markdown",
   "id": "d681db67-6d59-40c1-a36b-4d76729a690d",
   "metadata": {},
   "source": [
    "## Load Python libraries to view HTML"
   ]
  },
  {
   "cell_type": "code",
   "execution_count": 18,
   "id": "73ff0052",
   "metadata": {
    "height": 30,
    "tags": []
   },
   "outputs": [],
   "source": [
    "from IPython.display import display, HTML"
   ]
  },
  {
   "cell_type": "code",
   "execution_count": 19,
   "id": "3465ffce",
   "metadata": {
    "height": 30,
    "tags": []
   },
   "outputs": [
    {
     "data": {
      "text/html": [
       "```The Lamborghini Aventador is a masterpiece of automotive engineering, crafted with precision and luxury in mind. This flagship supercar boasts a powerful 6.5L V12 Naturally Aspirated engine that delivers an impressive 730 hp in the Aventador S and 759 hp in the Aventador SVJ. The advanced 7-speed ISR Automated Manual transmission ensures seamless gear shifts, while the all-wheel drive system provides exceptional handling.\n",
       "\n",
       "Constructed with the finest materials, the Aventador features extensive use of carbon fiber for aerodynamic enhancements, reducing weight and increasing performance. The sleek design of the Aventador is complemented by its impressive dimensions, including a length of 190.4 inches, a width of 79.9 inches (without mirrors), and a height of 44.7 inches. The wheelbase measures 106.3 inches, providing stability and agility on the road.\n",
       "\n",
       "Experience the pinnacle of automotive luxury with the Lamborghini Aventador, where power, performance, and style converge to create a driving experience like no other.\n",
       "\n",
       "Product IDs: 4,848 mm, 2,030 mm, 1,136 mm, 2,703 mm, 1,575 kg\n",
       "```\n",
       "\n",
       "<div>\n",
       "  <h2>Product Dimensions</h2>\n",
       "  <table>\n",
       "    <tr>\n",
       "      <td>Length</td>\n",
       "      <td>190.4 inches</td>\n",
       "    </tr>\n",
       "    <tr>\n",
       "      <td>Width</td>\n",
       "      <td>79.9 inches</td>\n",
       "    </tr>\n",
       "    <tr>\n",
       "      <td>Height</td>\n",
       "      <td>44.7 inches</td>\n",
       "    </tr>\n",
       "    <tr>\n",
       "      <td>Wheelbase</td>\n",
       "      <td>106.3 inches</td>\n",
       "    </tr>\n",
       "    <tr>\n",
       "      <td>Curb Weight</td>\n",
       "      <td>3,472 lbs</td>\n",
       "    </tr>\n",
       "  </table>\n",
       "</div>"
      ],
      "text/plain": [
       "<IPython.core.display.HTML object>"
      ]
     },
     "metadata": {},
     "output_type": "display_data"
    }
   ],
   "source": [
    "display(HTML(response))"
   ]
  },
  {
   "cell_type": "markdown",
   "id": "8ed02a02-9e12-4f63-97bd-f52064b18666",
   "metadata": {},
   "source": [
    "## Try experimenting on your own!"
   ]
  },
  {
   "cell_type": "code",
   "execution_count": null,
   "id": "dbe1f850",
   "metadata": {
    "height": 30
   },
   "outputs": [],
   "source": []
  }
 ],
 "metadata": {
  "kernelspec": {
   "display_name": "Python 3 (ipykernel)",
   "language": "python",
   "name": "python3"
  },
  "language_info": {
   "codemirror_mode": {
    "name": "ipython",
    "version": 3
   },
   "file_extension": ".py",
   "mimetype": "text/x-python",
   "name": "python",
   "nbconvert_exporter": "python",
   "pygments_lexer": "ipython3",
   "version": "3.9.19"
  }
 },
 "nbformat": 4,
 "nbformat_minor": 5
}

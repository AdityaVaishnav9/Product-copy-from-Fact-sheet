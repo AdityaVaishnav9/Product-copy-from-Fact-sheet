{
 "cells": [
  {
   "cell_type": "code",
   "execution_count": 1,
   "id": "2800e646",
   "metadata": {
    "height": 132,
    "tags": []
   },
   "outputs": [],
   "source": [
    "## setup \n",
    "import openai\n",
    "import os\n",
    "\n",
    "from dotenv import load_dotenv, find_dotenv\n",
    "_ = load_dotenv(find_dotenv()) # read local .env file\n",
    "\n",
    "openai.api_key  = os.getenv('OPENAI_API_KEY')"
   ]
  },
  {
   "cell_type": "code",
   "execution_count": 2,
   "id": "9fb6f2de",
   "metadata": {
    "height": 149,
    "tags": []
   },
   "outputs": [],
   "source": [
    "def get_completion(prompt, model=\"gpt-3.5-turbo\"):\n",
    "    messages = [{\"role\": \"user\", \"content\": prompt}]\n",
    "    response = openai.ChatCompletion.create(\n",
    "        model=model,\n",
    "        messages=messages,\n",
    "        temperature=0, # this is the degree of randomness of the model's output\n",
    "    )\n",
    "    return response.choices[0].message[\"content\"]"
   ]
  },
  {
   "cell_type": "code",
   "execution_count": 11,
   "id": "5be90e47",
   "metadata": {
    "height": 642,
    "tags": []
   },
   "outputs": [],
   "source": [
    "## Generate a marketing product description from a product fact sheet\n",
    "fact_sheet_chair = \"\"\"\n",
    "OVERVIEW\n",
    "The Lamborghini Aventador is a flagship supercar from the renowned Italian automaker, Lamborghini. Known for its striking design, powerful performance, and advanced technology, the Aventador stands as a pinnacle of automotive engineering and luxury.\n",
    "\n",
    "Key Specifications\n",
    "Engine\n",
    "Type: 6.5L V12 Naturally Aspirated\n",
    "Power: 730 hp (Aventador S) / 759 hp (Aventador SVJ)\n",
    "Torque: 509 lb-ft (Aventador S) / 531 lb-ft (Aventador SVJ)\n",
    "Transmission: 7-speed ISR (Independent Shifting Rod) Automated Manual\n",
    "Performance\n",
    "Top Speed: 217 mph (350 km/h)\n",
    "0-60 mph: 2.9 seconds (Aventador S) / 2.8 seconds (Aventador SVJ)\n",
    "Drive Type: All-wheel drive\n",
    "\n",
    "DIMENSIONS\n",
    "Length: 190.4 inches (4,848 mm)\n",
    "Width: 79.9 inches (2,030 mm) without mirrors\n",
    "Height: 44.7 inches (1,136 mm)\n",
    "Wheelbase: 106.3 inches (2,703 mm)\n",
    "Curb Weight: 3,472 lbs (1,575 kg)\n",
    "\n",
    "\n",
    "Special Editions\n",
    "Aventador SVJ (Superveloce Jota)\n",
    "Enhanced performance with increased power and reduced weight\n",
    "Extensive use of carbon fiber for aerodynamic enhancements\n",
    "Limited production run\n",
    "Aventador S\n",
    "Enhanced aerodynamics and suspension system\n",
    "Improved driving dynamics with rear-wheel steering\n",
    "Upgraded infotainment and interior features\n",
    "Pricing\n",
    "Base Price:\n",
    "Aventador S: Starting at $421,321\n",
    "Aventador SVJ: Starting at $517,770\n",
    "\"\"\""
   ]
  },
  {
   "cell_type": "code",
   "execution_count": 12,
   "id": "4f656d0c",
   "metadata": {
    "height": 251,
    "tags": []
   },
   "outputs": [
    {
     "name": "stdout",
     "output_type": "stream",
     "text": [
      "Introducing the Lamborghini Aventador, the epitome of luxury and performance in the world of supercars. Crafted by the prestigious Italian automaker, Lamborghini, the Aventador is a masterpiece of automotive engineering.\n",
      "\n",
      "Powered by a 6.5L V12 Naturally Aspirated engine, the Aventador delivers an impressive 730 hp in the Aventador S model and a staggering 759 hp in the Aventador SVJ. With a torque of 509 lb-ft in the Aventador S and 531 lb-ft in the Aventador SVJ, this supercar is designed to provide an exhilarating driving experience.\n",
      "\n",
      "Equipped with a 7-speed ISR (Independent Shifting Rod) Automated Manual transmission, the Aventador offers seamless gear shifts for optimal performance. With a top speed of 217 mph and a 0-60 mph acceleration time of just 2.8 seconds in the Aventador SVJ, this supercar is sure to leave a lasting impression.\n",
      "\n",
      "The Aventador's dimensions showcase its sleek and aerodynamic design, with a length of 190.4 inches, a width of 79.9 inches (without mirrors), and a height of 44.7 inches. The all-wheel-drive system ensures superior handling and control on the road.\n",
      "\n",
      "For those seeking the ultimate driving experience, the Aventador is also available in special editions such as the Aventador SVJ and Aventador S. The SVJ model offers enhanced performance, reduced weight, and aerodynamic enhancements using carbon fiber. The Aventador S features improved aerodynamics, rear-wheel steering, and upgraded infotainment and interior features.\n",
      "\n",
      "Experience the pinnacle of automotive luxury with the Lamborghini Aventador, starting at $421,321 for the Aventador S and $517,770 for the Aventador SVJ. Elevate your driving experience with the Aventador and make a statement wherever you go.\n"
     ]
    }
   ],
   "source": [
    "prompt = f\"\"\"\n",
    "Your task is to help a marketing team create a \n",
    "description for a retail website of a product based \n",
    "on a technical fact sheet.\n",
    "\n",
    "Write a product description based on the information \n",
    "provided in the technical specifications delimited by \n",
    "triple backticks.\n",
    "\n",
    "Technical specifications: ```{fact_sheet_chair}```\n",
    "\"\"\"\n",
    "response = get_completion(prompt)\n",
    "print(response)\n"
   ]
  },
  {
   "cell_type": "code",
   "execution_count": 13,
   "id": "f6129532",
   "metadata": {
    "height": 285,
    "tags": []
   },
   "outputs": [
    {
     "name": "stdout",
     "output_type": "stream",
     "text": [
      "Experience the pinnacle of automotive luxury with the Lamborghini Aventador. Featuring a powerful 6.5L V12 engine, striking design, and top speed of 217 mph, this flagship supercar offers unparalleled performance. Choose from the Aventador S or SVJ models for enhanced features and limited edition exclusivity. Starting at $421,321.\n"
     ]
    }
   ],
   "source": [
    "#as the text is too long, we'll limit the no. of words.\n",
    "prompt = f\"\"\"\n",
    "Your task is to help a marketing team create a \n",
    "description for a retail website of a product based \n",
    "on a technical fact sheet.\n",
    "\n",
    "Write a product description based on the information \n",
    "provided in the technical specifications delimited by \n",
    "triple backticks.\n",
    "\n",
    "Use at most 50 words.\n",
    "\n",
    "Technical specifications: ```{fact_sheet_chair}```\n",
    "\"\"\"\n",
    "response = get_completion(prompt)\n",
    "print(response)\n"
   ]
  },
  {
   "cell_type": "code",
   "execution_count": 14,
   "id": "17f658d0",
   "metadata": {
    "height": 30,
    "tags": []
   },
   "outputs": [
    {
     "data": {
      "text/plain": [
       "48"
      ]
     },
     "execution_count": 14,
     "metadata": {},
     "output_type": "execute_result"
    }
   ],
   "source": [
    "#to check the legth of response\n",
    "len(response.split())"
   ]
  },
  {
   "cell_type": "code",
   "execution_count": 15,
   "id": "954a8a06",
   "metadata": {
    "height": 336,
    "tags": []
   },
   "outputs": [
    {
     "name": "stdout",
     "output_type": "stream",
     "text": [
      "Experience the pinnacle of automotive engineering with the Lamborghini Aventador. Featuring a 6.5L V12 engine, delivering 730 hp in the Aventador S and 759 hp in the Aventador SVJ, this supercar offers unparalleled power and performance. With a top speed of 217 mph and 0-60 mph in just 2.8 seconds, the Aventador is a true masterpiece for automobile enthusiasts.\n"
     ]
    }
   ],
   "source": [
    "#developing focus on model relevant to user\n",
    "prompt = f\"\"\"\n",
    "Your task is to help a marketing team create a \n",
    "description for a retail website of a product based \n",
    "on a technical fact sheet.\n",
    "\n",
    "Write a product description based on the information \n",
    "provided in the technical specifications delimited by \n",
    "triple backticks.\n",
    "\n",
    "The description is intended for automobile lovers, \n",
    "so should be technical in nature and focus on the \n",
    "engine of the product.\n",
    "\n",
    "Use at most 50 words.\n",
    "\n",
    "Technical specifications: ```{fact_sheet_chair}```\n",
    "\"\"\"\n",
    "response = get_completion(prompt)\n",
    "print(response)"
   ]
  },
  {
   "cell_type": "code",
   "execution_count": 16,
   "id": "e9455d58",
   "metadata": {
    "height": 387,
    "tags": []
   },
   "outputs": [
    {
     "name": "stdout",
     "output_type": "stream",
     "text": [
      "Experience the raw power and precision of the Lamborghini Aventador, featuring a 6.5L V12 engine delivering up to 759 hp. With a top speed of 217 mph and 0-60 mph in just 2.8 seconds, this supercar is a true engineering marvel. Product ID: 1,575 kg.\n"
     ]
    }
   ],
   "source": [
    "prompt = f\"\"\"\n",
    "Your task is to help a marketing team create a \n",
    "description for a retail website of a product based \n",
    "on a technical fact sheet.\n",
    "\n",
    "Write a product description based on the information \n",
    "provided in the technical specifications delimited by \n",
    "triple backticks.\n",
    "\n",
    "The description is intended for automobile lovers, \n",
    "so should be technical in nature and focus on the \n",
    "engine of the product.\n",
    "\n",
    "At the end of the description, include every 7-character \n",
    "Product ID in the technical specification.\n",
    "\n",
    "Use at most 50 words.\n",
    "\n",
    "Technical specifications: ```{fact_sheet_chair}```\n",
    "\"\"\"\n",
    "response = get_completion(prompt)\n",
    "print(response)"
   ]
  },
  {
   "cell_type": "code",
   "execution_count": 17,
   "id": "0384f1e4",
   "metadata": {
    "height": 540,
    "tags": []
   },
   "outputs": [
    {
     "name": "stdout",
     "output_type": "stream",
     "text": [
      "```The Lamborghini Aventador is a masterpiece of automotive engineering, crafted with precision and luxury in mind. This flagship supercar boasts a powerful 6.5L V12 Naturally Aspirated engine that delivers an impressive 730 hp in the Aventador S and 759 hp in the Aventador SVJ. The advanced 7-speed ISR Automated Manual transmission ensures seamless gear shifts, while the all-wheel drive system provides exceptional handling.\n",
      "\n",
      "Constructed with the finest materials, the Aventador features extensive use of carbon fiber for aerodynamic enhancements, reducing weight and increasing performance. The sleek design of the Aventador is complemented by its impressive dimensions, including a length of 190.4 inches, a width of 79.9 inches (without mirrors), and a height of 44.7 inches. The wheelbase measures 106.3 inches, providing stability and agility on the road.\n",
      "\n",
      "Experience the pinnacle of automotive luxury with the Lamborghini Aventador, where power, performance, and style converge to create a driving experience like no other.\n",
      "\n",
      "Product IDs: 4,848 mm, 2,030 mm, 1,136 mm, 2,703 mm, 1,575 kg\n",
      "```\n",
      "\n",
      "<div>\n",
      "  <h2>Product Dimensions</h2>\n",
      "  <table>\n",
      "    <tr>\n",
      "      <td>Length</td>\n",
      "      <td>190.4 inches</td>\n",
      "    </tr>\n",
      "    <tr>\n",
      "      <td>Width</td>\n",
      "      <td>79.9 inches</td>\n",
      "    </tr>\n",
      "    <tr>\n",
      "      <td>Height</td>\n",
      "      <td>44.7 inches</td>\n",
      "    </tr>\n",
      "    <tr>\n",
      "      <td>Wheelbase</td>\n",
      "      <td>106.3 inches</td>\n",
      "    </tr>\n",
      "    <tr>\n",
      "      <td>Curb Weight</td>\n",
      "      <td>3,472 lbs</td>\n",
      "    </tr>\n",
      "  </table>\n",
      "</div>\n"
     ]
    }
   ],
   "source": [
    "#Extract info and organize in table\n",
    "prompt = f\"\"\"\n",
    "Your task is to help a marketing team create a \n",
    "description for a retail website of a product based \n",
    "on a technical fact sheet.\n",
    "\n",
    "Write a product description based on the information \n",
    "provided in the technical specifications delimited by \n",
    "triple backticks.\n",
    "\n",
    "The description is intended for furniture retailers, \n",
    "so should be technical in nature and focus on the \n",
    "materials the product is constructed from.\n",
    "\n",
    "At the end of the description, include every 7-character \n",
    "Product ID in the technical specification.\n",
    "\n",
    "After the description, include a table that gives the \n",
    "product's dimensions. The table should have two columns.\n",
    "In the first column include the name of the dimension. \n",
    "In the second column include the measurements in inches only.\n",
    "\n",
    "Give the table the title 'Product Dimensions'.\n",
    "\n",
    "Format everything as HTML that can be used in a website. \n",
    "Place the description in a <div> element.\n",
    "\n",
    "Technical specifications: ```{fact_sheet_chair}```\n",
    "\"\"\"\n",
    "\n",
    "response = get_completion(prompt)\n",
    "print(response)"
   ]
  },
  {
   "cell_type": "markdown",
   "id": "d681db67-6d59-40c1-a36b-4d76729a690d",
   "metadata": {},
   "source": [
    "## Load Python libraries to view HTML"
   ]
  },
  {
   "cell_type": "code",
   "execution_count": 18,
   "id": "73ff0052",
   "metadata": {
    "height": 30,
    "tags": []
   },
   "outputs": [],
   "source": [
    "#load python libraries to view HTML\n",
    "from IPython.display import display, HTML"
   ]
  },
  {
   "cell_type": "code",
   "execution_count": 19,
   "id": "3465ffce",
   "metadata": {
    "height": 30,
    "tags": []
   },
   "outputs": [
    {
     "data": {
      "text/html": [
       "```The Lamborghini Aventador is a masterpiece of automotive engineering, crafted with precision and luxury in mind. This flagship supercar boasts a powerful 6.5L V12 Naturally Aspirated engine that delivers an impressive 730 hp in the Aventador S and 759 hp in the Aventador SVJ. The advanced 7-speed ISR Automated Manual transmission ensures seamless gear shifts, while the all-wheel drive system provides exceptional handling.\n",
       "\n",
       "Constructed with the finest materials, the Aventador features extensive use of carbon fiber for aerodynamic enhancements, reducing weight and increasing performance. The sleek design of the Aventador is complemented by its impressive dimensions, including a length of 190.4 inches, a width of 79.9 inches (without mirrors), and a height of 44.7 inches. The wheelbase measures 106.3 inches, providing stability and agility on the road.\n",
       "\n",
       "Experience the pinnacle of automotive luxury with the Lamborghini Aventador, where power, performance, and style converge to create a driving experience like no other.\n",
       "\n",
       "Product IDs: 4,848 mm, 2,030 mm, 1,136 mm, 2,703 mm, 1,575 kg\n",
       "```\n",
       "\n",
       "<div>\n",
       "  <h2>Product Dimensions</h2>\n",
       "  <table>\n",
       "    <tr>\n",
       "      <td>Length</td>\n",
       "      <td>190.4 inches</td>\n",
       "    </tr>\n",
       "    <tr>\n",
       "      <td>Width</td>\n",
       "      <td>79.9 inches</td>\n",
       "    </tr>\n",
       "    <tr>\n",
       "      <td>Height</td>\n",
       "      <td>44.7 inches</td>\n",
       "    </tr>\n",
       "    <tr>\n",
       "      <td>Wheelbase</td>\n",
       "      <td>106.3 inches</td>\n",
       "    </tr>\n",
       "    <tr>\n",
       "      <td>Curb Weight</td>\n",
       "      <td>3,472 lbs</td>\n",
       "    </tr>\n",
       "  </table>\n",
       "</div>"
      ],
      "text/plain": [
       "<IPython.core.display.HTML object>"
      ]
     },
     "metadata": {},
     "output_type": "display_data"
    }
   ],
   "source": [
    "display(HTML(response))"
   ]
  }
 ],
 "metadata": {
  "kernelspec": {
   "display_name": "Python 3 (ipykernel)",
   "language": "python",
   "name": "python3"
  },
  "language_info": {
   "codemirror_mode": {
    "name": "ipython",
    "version": 3
   },
   "file_extension": ".py",
   "mimetype": "text/x-python",
   "name": "python",
   "nbconvert_exporter": "python",
   "pygments_lexer": "ipython3",
   "version": "3.9.19"
  }
 },
 "nbformat": 4,
 "nbformat_minor": 5
}
